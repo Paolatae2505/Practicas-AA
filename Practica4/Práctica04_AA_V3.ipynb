{
  "nbformat": 4,
  "nbformat_minor": 0,
  "metadata": {
    "colab": {
      "provenance": []
    },
    "kernelspec": {
      "name": "python3",
      "display_name": "Python 3"
    },
    "language_info": {
      "name": "python"
    }
  },
  "cells": [
    {
      "cell_type": "markdown",
      "source": [
        "# **Práctica 04**\n",
        "\n",
        "## Vargas Bravo Paola"
      ],
      "metadata": {
        "id": "yjziiO0-tlXg"
      }
    },
    {
      "cell_type": "code",
      "execution_count": 2,
      "metadata": {
        "id": "pM4MqAPSVLok",
        "colab": {
          "base_uri": "https://localhost:8080/"
        },
        "outputId": "c67146af-9c08-4966-acee-dceae71d8083"
      },
      "outputs": [
        {
          "output_type": "stream",
          "name": "stderr",
          "text": [
            "[nltk_data] Downloading package punkt to /root/nltk_data...\n",
            "[nltk_data]   Package punkt is already up-to-date!\n",
            "[nltk_data] Downloading package stopwords to /root/nltk_data...\n",
            "[nltk_data]   Package stopwords is already up-to-date!\n",
            "[nltk_data] Downloading package wordnet to /root/nltk_data...\n",
            "[nltk_data]   Package wordnet is already up-to-date!\n"
          ]
        }
      ],
      "source": [
        "# Leemos el conjunto de datos \"spam_ham_dataset.csv\"\n",
        "import pandas as pd\n",
        "import pandas as pd\n",
        "import nltk\n",
        "from nltk.tokenize import word_tokenize\n",
        "from nltk.corpus import stopwords\n",
        "from nltk.stem import WordNetLemmatizer\n",
        "import string\n",
        "\n",
        "# Descargar recursos de NLTK si es la primera vez\n",
        "nltk.download('punkt')\n",
        "nltk.download('stopwords')\n",
        "nltk.download('wordnet')\n",
        "\n",
        "df = pd.read_csv(\"spam_ham_dataset.csv\")"
      ]
    },
    {
      "cell_type": "code",
      "source": [
        "# Quitamos las columnas \"Unnamed: 0\" y \"label\"\n",
        "df_2 = df.drop(\"Unnamed: 0\",axis=1).drop(\"label\",axis=1)"
      ],
      "metadata": {
        "id": "tv36M25pYA2e"
      },
      "execution_count": 3,
      "outputs": []
    },
    {
      "cell_type": "code",
      "source": [
        "# Obtenemos 4 listas, texto completo, etiquetas, spam y ham\n",
        "texto = df[\"text\"]\n",
        "labels = df[\"label_num\"]\n",
        "spam = df[df[\"label_num\"]==1][\"text\"]\n",
        "ham = df[df[\"label_num\"]==0][\"text\"]"
      ],
      "metadata": {
        "id": "GO0oiWwLYFEn"
      },
      "execution_count": 4,
      "outputs": []
    },
    {
      "cell_type": "code",
      "source": [
        "#Creamos una funcion para tokenizar las palabras y pasar a minuscula\n",
        "import re\n",
        "import nltk\n",
        "from nltk.tokenize import word_tokenize\n",
        "nltk.download('punkt')\n",
        "\n",
        "def preprocess_text(text):\n",
        "    # Tokenización\n",
        "    tokens = word_tokenize(text)\n",
        "\n",
        "    # Lower case\n",
        "    tokens = [word.lower() for word in tokens]\n",
        "\n",
        "    # Eliminar caracteres especiales y números\n",
        "    tokens = [re.sub(r'[^a-zA-Z]', '', word) for word in tokens]\n",
        "\n",
        "    # Eliminar stop words\n",
        "    stop_words = set(stopwords.words('english'))\n",
        "    tokens = [word for word in tokens if word not in stop_words]\n",
        "\n",
        "    # Quitar cadenas vacías\n",
        "    tokens = [word for word in tokens if word.strip() != '']\n",
        "\n",
        "    # Lematización\n",
        "    lemmatizer = WordNetLemmatizer()\n",
        "    tokens = [lemmatizer.lemmatize(word) for word in tokens]\n",
        "\n",
        "    return tokens\n",
        "\n",
        "# Ejemplo de texto de correo electrónico\n",
        "email_text = \"Congratulations! You've won a free trip to Hawaii. Click here to claim your prize!\"\n",
        "print(email_text)\n",
        "# Preprocesamiento del texto del correo electrónico\n",
        "preprocessed_email = preprocess_text(email_text)\n",
        "print(\"Texto preprocesado:\", preprocessed_email)\n",
        "print(\"Resultado deseado:\",['congratulation', 'free', 'trip', 'hawaii', 'click', 'claim', 'prize']\n",
        ")\n",
        "\n"
      ],
      "metadata": {
        "id": "h350dS60ZCQO",
        "colab": {
          "base_uri": "https://localhost:8080/"
        },
        "outputId": "da9ccf7d-b06c-44b9-c347-5d1feec94744"
      },
      "execution_count": 24,
      "outputs": [
        {
          "output_type": "stream",
          "name": "stdout",
          "text": [
            "Congratulations! You've won a free trip to Hawaii. Click here to claim your prize!\n",
            "Texto preprocesado: ['congratulation', 'free', 'trip', 'hawaii', 'click', 'claim', 'prize']\n",
            "Resultado deseado: ['congratulation', 'free', 'trip', 'hawaii', 'click', 'claim', 'prize']\n"
          ]
        },
        {
          "output_type": "stream",
          "name": "stderr",
          "text": [
            "[nltk_data] Downloading package punkt to /root/nltk_data...\n",
            "[nltk_data]   Package punkt is already up-to-date!\n"
          ]
        }
      ]
    },
    {
      "cell_type": "code",
      "source": [
        "# Aplicamos la funcion anterior a cada elemento de las listas con texto\n",
        "texto_2 = [preprocess_text(email) for email in texto]"
      ],
      "metadata": {
        "id": "y-vTjaQbbbK_"
      },
      "execution_count": 25,
      "outputs": []
    },
    {
      "cell_type": "code",
      "source": [
        "spam_2 = [preprocess_text(email) for email in spam]\n",
        "ham_2 = [preprocess_text(email) for email in ham]"
      ],
      "metadata": {
        "id": "dKwg7MIRI3N4"
      },
      "execution_count": 26,
      "outputs": []
    },
    {
      "cell_type": "code",
      "source": [
        "# Obtenemos el conjunto de palabras unicas de spam\n",
        "set_spam = set()\n",
        "for email in spam_2:\n",
        "  set_spam.update(set(email))"
      ],
      "metadata": {
        "id": "48905FvScvp8"
      },
      "execution_count": 27,
      "outputs": []
    },
    {
      "cell_type": "code",
      "source": [
        "# Obtenemos el conjunto de palabras unicas de ham\n",
        "set_ham = set()\n",
        "for email in ham_2:\n",
        "  set_ham.update(set(email))"
      ],
      "metadata": {
        "id": "GCouqw9reNVL"
      },
      "execution_count": 28,
      "outputs": []
    },
    {
      "cell_type": "code",
      "source": [
        "dict_spamicity = {}\n",
        "#Obtenemos la proba de que aparezca una palabra dado que es spam\n",
        "#Iteramos sobre las palabras que aparecen en spam\n",
        "# Iteramos sobre los correos de spam\n",
        "total_spam = len(spam)\n",
        "for palabra in set_spam:\n",
        "  pInSpam = 0\n",
        "  for email in spam_2:\n",
        "    if palabra in email:\n",
        "      pInSpam +=1\n",
        "  if pInSpam ==0:\n",
        "    proba = 1/total_spam # Parametro\n",
        "  else:\n",
        "    proba = pInSpam/total_spam\n",
        "  dict_spamicity[palabra] = proba"
      ],
      "metadata": {
        "id": "Uv4ioIfpb0A9"
      },
      "execution_count": 29,
      "outputs": []
    },
    {
      "cell_type": "code",
      "source": [
        "dict_ham = {}\n",
        "#Obtenemos la proba de que aparezca una palabra dado que es ham\n",
        "#Iteramos sobre las palabras que aparecen en ham\n",
        "# Iteramos sobre los correos de ham\n",
        "total_ham = len(ham)\n",
        "for palabra in set_ham:\n",
        "  pInHam = 0\n",
        "  for email in ham_2:\n",
        "    if palabra in email:\n",
        "      pInHam +=1\n",
        "  if pInHam ==0:\n",
        "    proba = 1/total_ham # Parametro\n",
        "  else:\n",
        "    proba = pInHam/total_ham\n",
        "  dict_ham[palabra] = proba"
      ],
      "metadata": {
        "id": "oe8qjAJLhx3d"
      },
      "execution_count": 30,
      "outputs": []
    },
    {
      "cell_type": "code",
      "source": [
        "# Calculamos la proba de spam\n",
        "S = total_spam/(total_spam+total_ham)\n",
        "S"
      ],
      "metadata": {
        "colab": {
          "base_uri": "https://localhost:8080/"
        },
        "id": "DkENnWQXjoD6",
        "outputId": "8c80ffc3-a9e7-4acd-ac40-f2c991e18d06"
      },
      "execution_count": 31,
      "outputs": [
        {
          "output_type": "execute_result",
          "data": {
            "text/plain": [
              "0.2898859021465867"
            ]
          },
          "metadata": {},
          "execution_count": 31
        }
      ]
    },
    {
      "cell_type": "code",
      "source": [
        "# Calculamos la proba de ham\n",
        "H = total_ham/(total_spam+total_ham)\n",
        "H"
      ],
      "metadata": {
        "colab": {
          "base_uri": "https://localhost:8080/"
        },
        "id": "aDe1-M04jsC5",
        "outputId": "6a892dfd-8c35-4adb-c4cd-93da26e128c5"
      },
      "execution_count": 32,
      "outputs": [
        {
          "output_type": "execute_result",
          "data": {
            "text/plain": [
              "0.7101140978534133"
            ]
          },
          "metadata": {},
          "execution_count": 32
        }
      ]
    },
    {
      "cell_type": "code",
      "source": [
        "#Preparamos test individuales\n",
        "tests  = [\"\"\"Subject: re : indian springs\n",
        "this deal is to book the teco pvr revenue . it is my understanding that teco\n",
        "just sends us a check , i haven ' t received an answer as to whether there is a\n",
        "predermined price associated with this deal or if teco just lets us know what\n",
        "we are giving . i can continue to chase this deal down if you need .\"\"\", \"\"\"Subject: photoshop , windows , office . cheap . main trending\n",
        "abasements darer prudently fortuitous undergone\n",
        "lighthearted charm orinoco taster\n",
        "railroad affluent pornographic cuvier\n",
        "irvin parkhouse blameworthy chlorophyll\n",
        "robed diagrammatic fogarty clears bayda\n",
        "inconveniencing managing represented smartness hashish\n",
        "academies shareholders unload badness\n",
        "danielson pure caffein\n",
        "spaniard chargeable levin\"\"\"]\n",
        "tests = [preprocess_text(txt) for txt in tests]"
      ],
      "metadata": {
        "id": "5yEmrVcbj5Ti"
      },
      "execution_count": 33,
      "outputs": []
    },
    {
      "cell_type": "code",
      "source": [
        "# Quitamos de los emails las palabras que no encontramos\n",
        "texto_preprocesado = []\n",
        "for email in tests:\n",
        "  email_nuevo = []\n",
        "  for palabra in email:\n",
        "    if palabra in set_ham:\n",
        "      email_nuevo.append(palabra)\n",
        "    else:\n",
        "      if palabra in set_spam:\n",
        "        email_nuevo.append(palabra)\n",
        "  texto_preprocesado.append(email_nuevo)\n",
        "texto_preprocesado"
      ],
      "metadata": {
        "id": "a4ZIBevBj9W3",
        "colab": {
          "base_uri": "https://localhost:8080/"
        },
        "outputId": "fdedc948-1a5e-47f3-f0a9-824b43d83b8b"
      },
      "execution_count": 34,
      "outputs": [
        {
          "output_type": "execute_result",
          "data": {
            "text/plain": [
              "[['subject',\n",
              "  'indian',\n",
              "  'spring',\n",
              "  'deal',\n",
              "  'book',\n",
              "  'teco',\n",
              "  'pvr',\n",
              "  'revenue',\n",
              "  'understanding',\n",
              "  'teco',\n",
              "  'sends',\n",
              "  'u',\n",
              "  'check',\n",
              "  'received',\n",
              "  'answer',\n",
              "  'whether',\n",
              "  'predermined',\n",
              "  'price',\n",
              "  'associated',\n",
              "  'deal',\n",
              "  'teco',\n",
              "  'let',\n",
              "  'u',\n",
              "  'know',\n",
              "  'giving',\n",
              "  'continue',\n",
              "  'chase',\n",
              "  'deal',\n",
              "  'need'],\n",
              " ['subject',\n",
              "  'photoshop',\n",
              "  'window',\n",
              "  'office',\n",
              "  'cheap',\n",
              "  'main',\n",
              "  'trending',\n",
              "  'abasement',\n",
              "  'darer',\n",
              "  'prudently',\n",
              "  'fortuitous',\n",
              "  'undergone',\n",
              "  'lighthearted',\n",
              "  'charm',\n",
              "  'orinoco',\n",
              "  'taster',\n",
              "  'railroad',\n",
              "  'affluent',\n",
              "  'pornographic',\n",
              "  'cuvier',\n",
              "  'irvin',\n",
              "  'parkhouse',\n",
              "  'blameworthy',\n",
              "  'chlorophyll',\n",
              "  'robed',\n",
              "  'diagrammatic',\n",
              "  'fogarty',\n",
              "  'clear',\n",
              "  'bayda',\n",
              "  'inconveniencing',\n",
              "  'managing',\n",
              "  'represented',\n",
              "  'smartness',\n",
              "  'hashish',\n",
              "  'academy',\n",
              "  'shareholder',\n",
              "  'unload',\n",
              "  'badness',\n",
              "  'danielson',\n",
              "  'pure',\n",
              "  'caffein',\n",
              "  'spaniard',\n",
              "  'chargeable',\n",
              "  'levin']]"
            ]
          },
          "metadata": {},
          "execution_count": 34
        }
      ]
    },
    {
      "cell_type": "code",
      "source": [
        "# Preparamos tests para medir metricas\n",
        "from sklearn.model_selection import train_test_split\n",
        "X_, X_test, y_, y_test = train_test_split(texto_2, labels, test_size=0.33, random_state=42)\n"
      ],
      "metadata": {
        "id": "NfUit923iU6M"
      },
      "execution_count": 35,
      "outputs": []
    },
    {
      "cell_type": "code",
      "source": [
        "# Creamos funcion que reciba una lista de probabilidades, multiplique todas y regrese el resultado\n",
        "def mult(probas) :        # multiplicar todas las probas\n",
        "    total_prob = 1\n",
        "    for proba in probas:\n",
        "      total_prob*=proba\n",
        "    # Multiplicar todas las probas\n",
        "    return total_prob\n",
        "# Creamos funcion que aplique Naive_Bayes a un email, con un threshold como parametro\n",
        "def Naive_Bayes(email,threshold):\n",
        "    probs = []\n",
        "    S # prob_spam\n",
        "    H # prob_ham\n",
        "    # Iteramos sobre las palabras del email\n",
        "    for palabra in email:\n",
        "\n",
        "    # Calculamos la proba de PdadoS #*Si es 0 asignamos una probabilidad baja 1/(total_spam+2)\n",
        "      try:\n",
        "        PdadoS = dict_spamicity[palabra]\n",
        "      except:\n",
        "        PdadoS = 1/total_spam\n",
        "    # Calculamos la proba de PdadoH #*Si es 0 asignamos una probabilidad baja 1/(total_spam+2)\n",
        "      try:\n",
        "          PdadoH = dict_ham[palabra]\n",
        "      except:\n",
        "          PdadoH = 1/total_ham\n",
        "    # Aplicamos Bayes para obtener SdadoP\n",
        "      probaB = PdadoS*S/(PdadoS*S+ PdadoH*H)\n",
        "      probs.append(probaB)\n",
        "    # Multiplicamos todas las probas para obtener el total de SdadoEmail\n",
        "    SdadoEmail = mult(probs)\n",
        "    # Aplicamos el Threshold para determinar si es o no es spam\n",
        "    # print(SdadoEmail)\n",
        "    if SdadoEmail >= threshold:\n",
        "      SdadoEmail =1\n",
        "    else:\n",
        "      SdadoEmail = 0\n",
        "    return SdadoEmail\n",
        "for email in texto_preprocesado:\n",
        "  print(Naive_Bayes(email,.00000000000001))\n"
      ],
      "metadata": {
        "colab": {
          "base_uri": "https://localhost:8080/"
        },
        "id": "ZqFwZzQ8keHN",
        "outputId": "563d84d7-ec9a-4109-a972-a4630f7e1734"
      },
      "execution_count": 36,
      "outputs": [
        {
          "output_type": "stream",
          "name": "stdout",
          "text": [
            "0\n",
            "1\n"
          ]
        }
      ]
    },
    {
      "cell_type": "code",
      "source": [
        "y_pred = [Naive_Bayes(email,.00000000000001) for email in X_test]\n",
        "\n",
        "from sklearn.metrics import confusion_matrix,classification_report,ConfusionMatrixDisplay\n",
        "print(classification_report(y_test,y_pred))"
      ],
      "metadata": {
        "colab": {
          "base_uri": "https://localhost:8080/"
        },
        "id": "EdjoJ1EBjIEG",
        "outputId": "cf2f2e9c-607a-4683-bd84-e9cea5bff014"
      },
      "execution_count": 37,
      "outputs": [
        {
          "output_type": "stream",
          "name": "stdout",
          "text": [
            "              precision    recall  f1-score   support\n",
            "\n",
            "           0       0.82      0.93      0.87      1246\n",
            "           1       0.69      0.43      0.53       461\n",
            "\n",
            "    accuracy                           0.80      1707\n",
            "   macro avg       0.76      0.68      0.70      1707\n",
            "weighted avg       0.78      0.80      0.78      1707\n",
            "\n"
          ]
        }
      ]
    },
    {
      "cell_type": "code",
      "source": [
        "import seaborn as sns\n",
        "import matplotlib.pyplot as plt\n",
        "\n",
        "sns.set_style('ticks')\n",
        "ConfusionMatrixDisplay(confusion_matrix(y_test,y_pred)).plot()\n",
        "plt.title(\"Confusion Matrix\")"
      ],
      "metadata": {
        "colab": {
          "base_uri": "https://localhost:8080/",
          "height": 489
        },
        "id": "cIE14wgdjTIg",
        "outputId": "21b3630e-c4af-4ba0-d171-25a3e2763edb"
      },
      "execution_count": 38,
      "outputs": [
        {
          "output_type": "execute_result",
          "data": {
            "text/plain": [
              "Text(0.5, 1.0, 'Confusion Matrix')"
            ]
          },
          "metadata": {},
          "execution_count": 38
        },
        {
          "output_type": "display_data",
          "data": {
            "text/plain": [
              "<Figure size 640x480 with 2 Axes>"
            ],
            "image/png": "[encoded data removed]"
          },
          "metadata": {}
        }
      ]
    },
    {
      "cell_type": "markdown",
      "source": [
        "## Utilizando las metricas vistas en clase, evaluar el modelo generado y determinar si mejora su desempeño respecto al modelo visto en clase (sin aplicar procesamiento de lenguaje natural)"
      ],
      "metadata": {
        "id": "5ag17exezspo"
      }
    },
    {
      "cell_type": "markdown",
      "source": [
        "## Comparando ambas métricas podemos notar los siguientes puntos :\n",
        "-    La precisión promedio (weighted avg) del modelo mejorado es ligeramente más alta que la del modelo original (0.78 frente a 0.76), lo que indica una mejora en la capacidad del modelo para predecir correctamente las clases.\n",
        "-  El recall promedio (weighted avg) del modelo mejorado es considerablemente más alto que el del modelo original (0.80 frente a 0.76), lo que indica que el modelo mejorado captura mejor la proporción de instancias positivas en los datos.\n",
        "-  El puntaje F1 promedio (weighted avg) del modelo mejorado es significativamente más alto que el del modelo original (0.78 frente a 0.70), lo que indica una mejora general en la capacidad de clasificación del modelo.\n",
        "\n",
        "Por lo que podemos notar que el modelo mejorado, que utiliza procesamiento de lenguaje natural, muestra un mejor desempeño en términos de precisión, recall y puntaje F1 en comparación con el modelo original sin procesamiento de lenguaje natural. Esto sugiere que la aplicación de PLN ha mejorado la capacidad del modelo para clasificar correos electrónicos como spam o no spam.\n",
        "\n",
        "Ahora si vemos un poco de la mátriz de confusión como complemento,\n",
        "En términos generales, podemos observar que nuestro modelo mejorado logró reducir significativamente el número de falsos negativos (FN), lo que indica una mejora en la capacidad del modelo para identificar correctamente los correos electrónicos de spam. Sin embargo, también aumentó el número de falsos positivos (FP), lo que significa que el modelo podría estar etiquetando erróneamente más correos electrónicos como spam, pero relamente es un precio que tenemos que pagar y es\n",
        "algo que nos interesa que pasará como vimos en clase."
      ],
      "metadata": {
        "id": "BQXamx920BWU"
      }
    }
  ]
}